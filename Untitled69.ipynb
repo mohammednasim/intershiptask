{
 "cells": [
  {
   "cell_type": "code",
   "execution_count": 1,
   "id": "d97c0b12",
   "metadata": {},
   "outputs": [],
   "source": [
    "import pandas as pd\n",
    "import numpy as np\n"
   ]
  },
  {
   "cell_type": "code",
   "execution_count": 2,
   "id": "8f9dfa10",
   "metadata": {},
   "outputs": [],
   "source": [
    "# Load datasets\n",
    "links = pd.read_csv('links.csv')\n",
    "movies = pd.read_csv('movies.csv')\n",
    "ratings = pd.read_csv('ratings.csv')\n",
    "tags = pd.read_csv('tags.csv')\n"
   ]
  },
  {
   "cell_type": "code",
   "execution_count": 3,
   "id": "4b5977d4",
   "metadata": {},
   "outputs": [],
   "source": [
    "movies_shape = movies.shape\n"
   ]
  },
  {
   "cell_type": "code",
   "execution_count": 4,
   "id": "365a53b6",
   "metadata": {},
   "outputs": [
    {
     "data": {
      "text/plain": [
       "(9742, 3)"
      ]
     },
     "execution_count": 4,
     "metadata": {},
     "output_type": "execute_result"
    }
   ],
   "source": [
    "movies_shape"
   ]
  },
  {
   "cell_type": "code",
   "execution_count": 6,
   "id": "a1740b74",
   "metadata": {},
   "outputs": [
    {
     "data": {
      "text/plain": [
       "(100836, 4)"
      ]
     },
     "execution_count": 6,
     "metadata": {},
     "output_type": "execute_result"
    }
   ],
   "source": [
    "# Shape of ratings.csv\n",
    "ratings_shape = ratings.shape\n",
    "ratings_shape"
   ]
  },
  {
   "cell_type": "code",
   "execution_count": 7,
   "id": "f5268d09",
   "metadata": {},
   "outputs": [
    {
     "data": {
      "text/plain": [
       "610"
      ]
     },
     "execution_count": 7,
     "metadata": {},
     "output_type": "execute_result"
    }
   ],
   "source": [
    "# Unique user IDs in ratings.csv\n",
    "unique_user_ids = ratings['userId'].nunique()\n",
    "unique_user_ids"
   ]
  },
  {
   "cell_type": "code",
   "execution_count": 8,
   "id": "2b252f58",
   "metadata": {},
   "outputs": [
    {
     "name": "stdout",
     "output_type": "stream",
     "text": [
      "Number of unique userIds: 610\n"
     ]
    }
   ],
   "source": [
    "# Number of unique users\n",
    "print(f\"Number of unique userIds: {unique_user_ids}\")"
   ]
  },
  {
   "cell_type": "code",
   "execution_count": 10,
   "id": "a0dbc468",
   "metadata": {},
   "outputs": [
    {
     "data": {
      "text/html": [
       "<div>\n",
       "<style scoped>\n",
       "    .dataframe tbody tr th:only-of-type {\n",
       "        vertical-align: middle;\n",
       "    }\n",
       "\n",
       "    .dataframe tbody tr th {\n",
       "        vertical-align: top;\n",
       "    }\n",
       "\n",
       "    .dataframe thead tr th {\n",
       "        text-align: left;\n",
       "    }\n",
       "</style>\n",
       "<table border=\"1\" class=\"dataframe\">\n",
       "  <thead>\n",
       "    <tr>\n",
       "      <th></th>\n",
       "      <th>movieId</th>\n",
       "      <th colspan=\"2\" halign=\"left\">rating</th>\n",
       "    </tr>\n",
       "    <tr>\n",
       "      <th></th>\n",
       "      <th></th>\n",
       "      <th>count</th>\n",
       "      <th>mean</th>\n",
       "    </tr>\n",
       "  </thead>\n",
       "  <tbody>\n",
       "    <tr>\n",
       "      <th>0</th>\n",
       "      <td>1</td>\n",
       "      <td>215</td>\n",
       "      <td>3.920930</td>\n",
       "    </tr>\n",
       "    <tr>\n",
       "      <th>1</th>\n",
       "      <td>2</td>\n",
       "      <td>110</td>\n",
       "      <td>3.431818</td>\n",
       "    </tr>\n",
       "    <tr>\n",
       "      <th>2</th>\n",
       "      <td>3</td>\n",
       "      <td>52</td>\n",
       "      <td>3.259615</td>\n",
       "    </tr>\n",
       "    <tr>\n",
       "      <th>3</th>\n",
       "      <td>4</td>\n",
       "      <td>7</td>\n",
       "      <td>2.357143</td>\n",
       "    </tr>\n",
       "    <tr>\n",
       "      <th>4</th>\n",
       "      <td>5</td>\n",
       "      <td>49</td>\n",
       "      <td>3.071429</td>\n",
       "    </tr>\n",
       "    <tr>\n",
       "      <th>...</th>\n",
       "      <td>...</td>\n",
       "      <td>...</td>\n",
       "      <td>...</td>\n",
       "    </tr>\n",
       "    <tr>\n",
       "      <th>9719</th>\n",
       "      <td>193581</td>\n",
       "      <td>1</td>\n",
       "      <td>4.000000</td>\n",
       "    </tr>\n",
       "    <tr>\n",
       "      <th>9720</th>\n",
       "      <td>193583</td>\n",
       "      <td>1</td>\n",
       "      <td>3.500000</td>\n",
       "    </tr>\n",
       "    <tr>\n",
       "      <th>9721</th>\n",
       "      <td>193585</td>\n",
       "      <td>1</td>\n",
       "      <td>3.500000</td>\n",
       "    </tr>\n",
       "    <tr>\n",
       "      <th>9722</th>\n",
       "      <td>193587</td>\n",
       "      <td>1</td>\n",
       "      <td>3.500000</td>\n",
       "    </tr>\n",
       "    <tr>\n",
       "      <th>9723</th>\n",
       "      <td>193609</td>\n",
       "      <td>1</td>\n",
       "      <td>4.000000</td>\n",
       "    </tr>\n",
       "  </tbody>\n",
       "</table>\n",
       "<p>9724 rows × 3 columns</p>\n",
       "</div>"
      ],
      "text/plain": [
       "     movieId rating          \n",
       "              count      mean\n",
       "0          1    215  3.920930\n",
       "1          2    110  3.431818\n",
       "2          3     52  3.259615\n",
       "3          4      7  2.357143\n",
       "4          5     49  3.071429\n",
       "...      ...    ...       ...\n",
       "9719  193581      1  4.000000\n",
       "9720  193583      1  3.500000\n",
       "9721  193585      1  3.500000\n",
       "9722  193587      1  3.500000\n",
       "9723  193609      1  4.000000\n",
       "\n",
       "[9724 rows x 3 columns]"
      ]
     },
     "execution_count": 10,
     "metadata": {},
     "output_type": "execute_result"
    }
   ],
   "source": [
    "# Group by movieId and aggregate\n",
    "ratings_grouped = ratings.groupby('movieId').agg({\n",
    "    'rating': ['count', 'mean']\n",
    "}).reset_index()\n",
    "ratings_grouped"
   ]
  },
  {
   "cell_type": "code",
   "execution_count": 12,
   "id": "09496973",
   "metadata": {},
   "outputs": [
    {
     "data": {
      "text/plain": [
       "Index(['movieId', 'rating_count', 'rating_mean'], dtype='object')"
      ]
     },
     "execution_count": 12,
     "metadata": {},
     "output_type": "execute_result"
    }
   ],
   "source": [
    "# Rename columns for easier access\n",
    "ratings_grouped.columns = ['movieId', 'rating_count', 'rating_mean']\n",
    "ratings_grouped.columns"
   ]
  },
  {
   "cell_type": "code",
   "execution_count": 14,
   "id": "10535124",
   "metadata": {},
   "outputs": [
    {
     "data": {
      "text/html": [
       "<div>\n",
       "<style scoped>\n",
       "    .dataframe tbody tr th:only-of-type {\n",
       "        vertical-align: middle;\n",
       "    }\n",
       "\n",
       "    .dataframe tbody tr th {\n",
       "        vertical-align: top;\n",
       "    }\n",
       "\n",
       "    .dataframe thead th {\n",
       "        text-align: right;\n",
       "    }\n",
       "</style>\n",
       "<table border=\"1\" class=\"dataframe\">\n",
       "  <thead>\n",
       "    <tr style=\"text-align: right;\">\n",
       "      <th></th>\n",
       "      <th>movieId</th>\n",
       "      <th>title</th>\n",
       "      <th>genres</th>\n",
       "      <th>rating_count</th>\n",
       "      <th>rating_mean</th>\n",
       "    </tr>\n",
       "  </thead>\n",
       "  <tbody>\n",
       "    <tr>\n",
       "      <th>0</th>\n",
       "      <td>1</td>\n",
       "      <td>Toy Story (1995)</td>\n",
       "      <td>Adventure|Animation|Children|Comedy|Fantasy</td>\n",
       "      <td>215</td>\n",
       "      <td>3.920930</td>\n",
       "    </tr>\n",
       "    <tr>\n",
       "      <th>1</th>\n",
       "      <td>2</td>\n",
       "      <td>Jumanji (1995)</td>\n",
       "      <td>Adventure|Children|Fantasy</td>\n",
       "      <td>110</td>\n",
       "      <td>3.431818</td>\n",
       "    </tr>\n",
       "    <tr>\n",
       "      <th>2</th>\n",
       "      <td>3</td>\n",
       "      <td>Grumpier Old Men (1995)</td>\n",
       "      <td>Comedy|Romance</td>\n",
       "      <td>52</td>\n",
       "      <td>3.259615</td>\n",
       "    </tr>\n",
       "    <tr>\n",
       "      <th>3</th>\n",
       "      <td>4</td>\n",
       "      <td>Waiting to Exhale (1995)</td>\n",
       "      <td>Comedy|Drama|Romance</td>\n",
       "      <td>7</td>\n",
       "      <td>2.357143</td>\n",
       "    </tr>\n",
       "    <tr>\n",
       "      <th>4</th>\n",
       "      <td>5</td>\n",
       "      <td>Father of the Bride Part II (1995)</td>\n",
       "      <td>Comedy</td>\n",
       "      <td>49</td>\n",
       "      <td>3.071429</td>\n",
       "    </tr>\n",
       "    <tr>\n",
       "      <th>...</th>\n",
       "      <td>...</td>\n",
       "      <td>...</td>\n",
       "      <td>...</td>\n",
       "      <td>...</td>\n",
       "      <td>...</td>\n",
       "    </tr>\n",
       "    <tr>\n",
       "      <th>9719</th>\n",
       "      <td>193581</td>\n",
       "      <td>Black Butler: Book of the Atlantic (2017)</td>\n",
       "      <td>Action|Animation|Comedy|Fantasy</td>\n",
       "      <td>1</td>\n",
       "      <td>4.000000</td>\n",
       "    </tr>\n",
       "    <tr>\n",
       "      <th>9720</th>\n",
       "      <td>193583</td>\n",
       "      <td>No Game No Life: Zero (2017)</td>\n",
       "      <td>Animation|Comedy|Fantasy</td>\n",
       "      <td>1</td>\n",
       "      <td>3.500000</td>\n",
       "    </tr>\n",
       "    <tr>\n",
       "      <th>9721</th>\n",
       "      <td>193585</td>\n",
       "      <td>Flint (2017)</td>\n",
       "      <td>Drama</td>\n",
       "      <td>1</td>\n",
       "      <td>3.500000</td>\n",
       "    </tr>\n",
       "    <tr>\n",
       "      <th>9722</th>\n",
       "      <td>193587</td>\n",
       "      <td>Bungo Stray Dogs: Dead Apple (2018)</td>\n",
       "      <td>Action|Animation</td>\n",
       "      <td>1</td>\n",
       "      <td>3.500000</td>\n",
       "    </tr>\n",
       "    <tr>\n",
       "      <th>9723</th>\n",
       "      <td>193609</td>\n",
       "      <td>Andrew Dice Clay: Dice Rules (1991)</td>\n",
       "      <td>Comedy</td>\n",
       "      <td>1</td>\n",
       "      <td>4.000000</td>\n",
       "    </tr>\n",
       "  </tbody>\n",
       "</table>\n",
       "<p>9724 rows × 5 columns</p>\n",
       "</div>"
      ],
      "text/plain": [
       "      movieId                                      title  \\\n",
       "0           1                           Toy Story (1995)   \n",
       "1           2                             Jumanji (1995)   \n",
       "2           3                    Grumpier Old Men (1995)   \n",
       "3           4                   Waiting to Exhale (1995)   \n",
       "4           5         Father of the Bride Part II (1995)   \n",
       "...       ...                                        ...   \n",
       "9719   193581  Black Butler: Book of the Atlantic (2017)   \n",
       "9720   193583               No Game No Life: Zero (2017)   \n",
       "9721   193585                               Flint (2017)   \n",
       "9722   193587        Bungo Stray Dogs: Dead Apple (2018)   \n",
       "9723   193609        Andrew Dice Clay: Dice Rules (1991)   \n",
       "\n",
       "                                           genres  rating_count  rating_mean  \n",
       "0     Adventure|Animation|Children|Comedy|Fantasy           215     3.920930  \n",
       "1                      Adventure|Children|Fantasy           110     3.431818  \n",
       "2                                  Comedy|Romance            52     3.259615  \n",
       "3                            Comedy|Drama|Romance             7     2.357143  \n",
       "4                                          Comedy            49     3.071429  \n",
       "...                                           ...           ...          ...  \n",
       "9719              Action|Animation|Comedy|Fantasy             1     4.000000  \n",
       "9720                     Animation|Comedy|Fantasy             1     3.500000  \n",
       "9721                                        Drama             1     3.500000  \n",
       "9722                             Action|Animation             1     3.500000  \n",
       "9723                                       Comedy             1     4.000000  \n",
       "\n",
       "[9724 rows x 5 columns]"
      ]
     },
     "execution_count": 14,
     "metadata": {},
     "output_type": "execute_result"
    }
   ],
   "source": [
    "# Inner join with movies\n",
    "movies_ratings = pd.merge(movies, ratings_grouped, on='movieId', how='inner')\n",
    "movies_ratings"
   ]
  },
  {
   "cell_type": "code",
   "execution_count": 15,
   "id": "c57af5f7",
   "metadata": {},
   "outputs": [
    {
     "data": {
      "text/html": [
       "<div>\n",
       "<style scoped>\n",
       "    .dataframe tbody tr th:only-of-type {\n",
       "        vertical-align: middle;\n",
       "    }\n",
       "\n",
       "    .dataframe tbody tr th {\n",
       "        vertical-align: top;\n",
       "    }\n",
       "\n",
       "    .dataframe thead th {\n",
       "        text-align: right;\n",
       "    }\n",
       "</style>\n",
       "<table border=\"1\" class=\"dataframe\">\n",
       "  <thead>\n",
       "    <tr style=\"text-align: right;\">\n",
       "      <th></th>\n",
       "      <th>movieId</th>\n",
       "      <th>title</th>\n",
       "      <th>genres</th>\n",
       "      <th>rating_count</th>\n",
       "      <th>rating_mean</th>\n",
       "    </tr>\n",
       "  </thead>\n",
       "  <tbody>\n",
       "    <tr>\n",
       "      <th>0</th>\n",
       "      <td>1</td>\n",
       "      <td>Toy Story (1995)</td>\n",
       "      <td>Adventure|Animation|Children|Comedy|Fantasy</td>\n",
       "      <td>215</td>\n",
       "      <td>3.920930</td>\n",
       "    </tr>\n",
       "    <tr>\n",
       "      <th>1</th>\n",
       "      <td>2</td>\n",
       "      <td>Jumanji (1995)</td>\n",
       "      <td>Adventure|Children|Fantasy</td>\n",
       "      <td>110</td>\n",
       "      <td>3.431818</td>\n",
       "    </tr>\n",
       "    <tr>\n",
       "      <th>2</th>\n",
       "      <td>3</td>\n",
       "      <td>Grumpier Old Men (1995)</td>\n",
       "      <td>Comedy|Romance</td>\n",
       "      <td>52</td>\n",
       "      <td>3.259615</td>\n",
       "    </tr>\n",
       "    <tr>\n",
       "      <th>5</th>\n",
       "      <td>6</td>\n",
       "      <td>Heat (1995)</td>\n",
       "      <td>Action|Crime|Thriller</td>\n",
       "      <td>102</td>\n",
       "      <td>3.946078</td>\n",
       "    </tr>\n",
       "    <tr>\n",
       "      <th>6</th>\n",
       "      <td>7</td>\n",
       "      <td>Sabrina (1995)</td>\n",
       "      <td>Comedy|Romance</td>\n",
       "      <td>54</td>\n",
       "      <td>3.185185</td>\n",
       "    </tr>\n",
       "    <tr>\n",
       "      <th>...</th>\n",
       "      <td>...</td>\n",
       "      <td>...</td>\n",
       "      <td>...</td>\n",
       "      <td>...</td>\n",
       "      <td>...</td>\n",
       "    </tr>\n",
       "    <tr>\n",
       "      <th>8287</th>\n",
       "      <td>106782</td>\n",
       "      <td>Wolf of Wall Street, The (2013)</td>\n",
       "      <td>Comedy|Crime|Drama</td>\n",
       "      <td>54</td>\n",
       "      <td>3.916667</td>\n",
       "    </tr>\n",
       "    <tr>\n",
       "      <th>8354</th>\n",
       "      <td>109374</td>\n",
       "      <td>Grand Budapest Hotel, The (2014)</td>\n",
       "      <td>Comedy|Drama</td>\n",
       "      <td>52</td>\n",
       "      <td>3.778846</td>\n",
       "    </tr>\n",
       "    <tr>\n",
       "      <th>8358</th>\n",
       "      <td>109487</td>\n",
       "      <td>Interstellar (2014)</td>\n",
       "      <td>Sci-Fi|IMAX</td>\n",
       "      <td>73</td>\n",
       "      <td>3.993151</td>\n",
       "    </tr>\n",
       "    <tr>\n",
       "      <th>8457</th>\n",
       "      <td>112852</td>\n",
       "      <td>Guardians of the Galaxy (2014)</td>\n",
       "      <td>Action|Adventure|Sci-Fi</td>\n",
       "      <td>59</td>\n",
       "      <td>4.050847</td>\n",
       "    </tr>\n",
       "    <tr>\n",
       "      <th>8673</th>\n",
       "      <td>122904</td>\n",
       "      <td>Deadpool (2016)</td>\n",
       "      <td>Action|Adventure|Comedy|Sci-Fi</td>\n",
       "      <td>54</td>\n",
       "      <td>3.833333</td>\n",
       "    </tr>\n",
       "  </tbody>\n",
       "</table>\n",
       "<p>436 rows × 5 columns</p>\n",
       "</div>"
      ],
      "text/plain": [
       "      movieId                             title  \\\n",
       "0           1                  Toy Story (1995)   \n",
       "1           2                    Jumanji (1995)   \n",
       "2           3           Grumpier Old Men (1995)   \n",
       "5           6                       Heat (1995)   \n",
       "6           7                    Sabrina (1995)   \n",
       "...       ...                               ...   \n",
       "8287   106782   Wolf of Wall Street, The (2013)   \n",
       "8354   109374  Grand Budapest Hotel, The (2014)   \n",
       "8358   109487               Interstellar (2014)   \n",
       "8457   112852    Guardians of the Galaxy (2014)   \n",
       "8673   122904                   Deadpool (2016)   \n",
       "\n",
       "                                           genres  rating_count  rating_mean  \n",
       "0     Adventure|Animation|Children|Comedy|Fantasy           215     3.920930  \n",
       "1                      Adventure|Children|Fantasy           110     3.431818  \n",
       "2                                  Comedy|Romance            52     3.259615  \n",
       "5                           Action|Crime|Thriller           102     3.946078  \n",
       "6                                  Comedy|Romance            54     3.185185  \n",
       "...                                           ...           ...          ...  \n",
       "8287                           Comedy|Crime|Drama            54     3.916667  \n",
       "8354                                 Comedy|Drama            52     3.778846  \n",
       "8358                                  Sci-Fi|IMAX            73     3.993151  \n",
       "8457                      Action|Adventure|Sci-Fi            59     4.050847  \n",
       "8673               Action|Adventure|Comedy|Sci-Fi            54     3.833333  \n",
       "\n",
       "[436 rows x 5 columns]"
      ]
     },
     "execution_count": 15,
     "metadata": {},
     "output_type": "execute_result"
    }
   ],
   "source": [
    "# Filter movies with more than 50 ratings\n",
    "popular_movies = movies_ratings[movies_ratings['rating_count'] > 50]\n",
    "popular_movies"
   ]
  },
  {
   "cell_type": "code",
   "execution_count": 16,
   "id": "eb89d94b",
   "metadata": {},
   "outputs": [
    {
     "name": "stdout",
     "output_type": "stream",
     "text": [
      "Most rated movie: Forrest Gump (1994)\n"
     ]
    }
   ],
   "source": [
    "#Which movie received the maximum number of user ratings?\n",
    "most_rated_movie = popular_movies.sort_values('rating_count', ascending=False).iloc[0]\n",
    "print(f\"Most rated movie: {most_rated_movie['title']}\")\n"
   ]
  },
  {
   "cell_type": "code",
   "execution_count": 17,
   "id": "ad3b24c7",
   "metadata": {},
   "outputs": [
    {
     "name": "stdout",
     "output_type": "stream",
     "text": [
      "Tags for Matrix: ['martial arts' 'sci-fi' 'alternate universe' 'philosophy'\n",
      " 'post apocalyptic']\n"
     ]
    }
   ],
   "source": [
    "#Select all correct tags submitted by users to \"Matrix, The (1999)\" movie\n",
    "matrix_tags = tags[tags['movieId'] == popular_movies[popular_movies['title'] == 'Matrix, The (1999)']['movieId'].values[0]]\n",
    "print(f\"Tags for Matrix: {matrix_tags['tag'].unique()}\")\n"
   ]
  },
  {
   "cell_type": "code",
   "execution_count": 18,
   "id": "b3996ccb",
   "metadata": {},
   "outputs": [
    {
     "name": "stdout",
     "output_type": "stream",
     "text": [
      "Average rating for Terminator 2: Judgment Day (1991): 3.970982142857143\n"
     ]
    }
   ],
   "source": [
    "#What is the average user rating for \"Terminator 2: Judgment Day (1991)\"?\n",
    "t2_rating = popular_movies[popular_movies['title'] == 'Terminator 2: Judgment Day (1991)']['rating_mean'].values[0]\n",
    "print(f\"Average rating for Terminator 2: Judgment Day (1991): {t2_rating}\")\n"
   ]
  },
  {
   "cell_type": "code",
   "execution_count": 19,
   "id": "843ccee5",
   "metadata": {},
   "outputs": [
    {
     "data": {
      "image/png": "[encoded data removed]",
      "text/plain": [
       "<Figure size 640x480 with 1 Axes>"
      ]
     },
     "metadata": {},
     "output_type": "display_data"
    }
   ],
   "source": [
    "#Distribution of user ratings for \"Fight Club (1999)\":\n",
    "fight_club_ratings = ratings[ratings['movieId'] == popular_movies[popular_movies['title'] == 'Fight Club (1999)']['movieId'].values[0]]\n",
    "fight_club_distribution = fight_club_ratings['rating'].hist()\n"
   ]
  },
  {
   "cell_type": "code",
   "execution_count": 20,
   "id": "c6fdef34",
   "metadata": {},
   "outputs": [
    {
     "name": "stdout",
     "output_type": "stream",
     "text": [
      "Most popular movie based on average rating: Shawshank Redemption, The (1994)\n"
     ]
    }
   ],
   "source": [
    "#Most popular movie based on average user ratings:\n",
    "most_popular_movie = popular_movies.sort_values('rating_mean', ascending=False).iloc[0]\n",
    "print(f\"Most popular movie based on average rating: {most_popular_movie['title']}\")\n"
   ]
  },
  {
   "cell_type": "code",
   "execution_count": 21,
   "id": "8b02b0c4",
   "metadata": {},
   "outputs": [
    {
     "name": "stdout",
     "output_type": "stream",
     "text": [
      "Top 5 popular movies: ['Forrest Gump (1994)' 'Shawshank Redemption, The (1994)'\n",
      " 'Pulp Fiction (1994)' 'Silence of the Lambs, The (1991)'\n",
      " 'Matrix, The (1999)']\n"
     ]
    }
   ],
   "source": [
    "#Top 5 popular movies based on the number of user ratings:\n",
    "top_5_popular_movies = popular_movies.sort_values('rating_count', ascending=False).head(5)\n",
    "print(f\"Top 5 popular movies: {top_5_popular_movies['title'].values}\")\n"
   ]
  },
  {
   "cell_type": "code",
   "execution_count": 22,
   "id": "25e2512c",
   "metadata": {},
   "outputs": [
    {
     "name": "stdout",
     "output_type": "stream",
     "text": [
      "Third most popular Sci-Fi movie: Jurassic Park (1993)\n"
     ]
    }
   ],
   "source": [
    "#Third most popular Sci-Fi movie based on the number of user ratings:\n",
    "sci_fi_movies = popular_movies[popular_movies['genres'].str.contains('Sci-Fi')]\n",
    "third_most_popular_sci_fi_movie = sci_fi_movies.sort_values('rating_count', ascending=False).iloc[2]\n",
    "print(f\"Third most popular Sci-Fi movie: {third_most_popular_sci_fi_movie['title']}\")\n"
   ]
  },
  {
   "cell_type": "code",
   "execution_count": 27,
   "id": "58d77b97",
   "metadata": {},
   "outputs": [],
   "source": [
    "# Find the movieId for \"Fight Club (1999)\"\n",
    "fight_club_id = popular_movies[popular_movies['title'] == 'Fight Club (1999)']['movieId'].values[0]\n",
    "\n",
    "# Filter the ratings for \"Fight Club (1999)\"\n",
    "fight_club_ratings = ratings[ratings['movieId'] == fight_club_id]['rating']\n"
   ]
  },
  {
   "cell_type": "code",
   "execution_count": 28,
   "id": "4f057231",
   "metadata": {},
   "outputs": [
    {
     "data": {
      "image/png": "[encoded data removed]",
      "text/plain": [
       "<Figure size 640x480 with 1 Axes>"
      ]
     },
     "metadata": {},
     "output_type": "display_data"
    }
   ],
   "source": [
    "import matplotlib.pyplot as plt\n",
    "\n",
    "# Plot the histogram\n",
    "plt.hist(fight_club_ratings, bins=10, edgecolor='black')\n",
    "plt.title('Distribution of User Ratings for Fight Club (1999)')\n",
    "plt.xlabel('Rating')\n",
    "plt.ylabel('Frequency')\n",
    "plt.show()\n"
   ]
  },
  {
   "cell_type": "code",
   "execution_count": 29,
   "id": "3425b5a2",
   "metadata": {},
   "outputs": [
    {
     "data": {
      "text/plain": [
       "2959"
      ]
     },
     "execution_count": 29,
     "metadata": {},
     "output_type": "execute_result"
    }
   ],
   "source": [
    "fight_club_id"
   ]
  },
  {
   "cell_type": "code",
   "execution_count": null,
   "id": "fc06ecf9",
   "metadata": {},
   "outputs": [],
   "source": [
    "import requests\n",
    "from bs4 import BeautifulSoup\n",
    "\n",
    "\n",
    "\n",
    "def get_imdb_rating(imdb_id):\n",
    "    url = f'https://www.imdb.com/title/tt{imdb_id}/'\n",
    "    response = requests.get(url)\n",
    "    soup = BeautifulSoup(response.text, 'html.parser')\n",
    "    try:\n",
    "        rating = soup.find('span', itemprop='ratingValue').text\n",
    "        return float(rating)\n",
    "    except AttributeError:\n",
    "        return None\n",
    "\n",
    "# Example usage:\n",
    "imdb_id = \"0114709\"  # Replace with actual IMDb ID\n",
    "rating = get_imdb_rating(imdb_id)\n",
    "print(f\"IMDb Rating: {rating}\")\n"
   ]
  },
  {
   "cell_type": "code",
   "execution_count": null,
   "id": "58f747ef",
   "metadata": {},
   "outputs": [],
   "source": [
    "import pandas as pd\n",
    "import requests\n",
    "from bs4 import BeautifulSoup\n",
    "\n",
    "def get_imdb_rating(imdb_id):\n",
    "    url = f'https://www.imdb.com/title/tt{imdb_id}/'\n",
    "    response = requests.get(url)\n",
    "    soup = BeautifulSoup(response.text, 'html.parser')\n",
    "    try:\n",
    "        rating = soup.find('span', itemprop='ratingValue').text\n",
    "        return float(rating)\n",
    "    except AttributeError:\n",
    "        return None\n",
    "\n",
    "# Load movie links data\n",
    "links_df = pd.read_csv('links.csv')\n",
    "\n",
    "# Initialize variables to track the highest rated movies\n",
    "highest_rating = 0\n",
    "highest_rated_movie_id = None\n",
    "highest_sci_fi_rating = 0\n",
    "highest_rated_sci_fi_movie_id = None\n",
    "\n",
    "# Iterate over each row in the DataFrame\n",
    "for index, row in links_df.iterrows():\n",
    "    imdb_id = row['imdbId']  # Replace with the actual column name for IMDb ID\n",
    "    genre = row.get('genre', '')  # Replace with the actual column name for genre\n",
    "\n",
    "    # Get the IMDb rating for the movie\n",
    "    rating = get_imdb_rating(imdb_id)\n",
    "    \n",
    "    if rating is not None:\n",
    "        # Update highest rating if this movie has a higher rating\n",
    "        if rating > highest_rating:\n",
    "            highest_rating = rating\n",
    "            highest_rated_movie_id = imdb_id\n",
    "        \n",
    "        # Update highest Sci-Fi rating if applicable\n",
    "        if 'Sci-Fi' in genre and rating > highest_sci_fi_rating:\n",
    "            highest_sci_fi_rating = rating\n",
    "            highest_rated_sci_fi_movie_id = imdb_id\n",
    "\n",
    "# Output the results\n",
    "print(f\"Movie ID with the highest IMDb rating: {highest_rated_movie_id}\")\n",
    "print(f\"Movie ID of the Sci-Fi movie with the highest IMDb rating: {highest_rated_sci_fi_movie_id}\")\n"
   ]
  },
  {
   "cell_type": "code",
   "execution_count": 35,
   "id": "e001e975",
   "metadata": {},
   "outputs": [],
   "source": [
    "\n",
    "import requests\n",
    "import numpy as np\n",
    "from bs4 import BeautifulSoup  # Correct import for BeautifulSoup\n",
    "\n",
    "def scrapper(imdbId):\n",
    "    # Convert IMDb ID to the correct format\n",
    "    id = str(int(imdbId))\n",
    "    n_zeroes = 7 - len(id)\n",
    "    new_id = \"0\"*n_zeroes + id\n",
    "    URL = f\"https://www.imdb.com/title/tt{new_id}/\"\n",
    "    \n",
    "    # Set up headers for the HTTP request\n",
    "    request_header = {\n",
    "        'Content-Type': 'text/html; charset=UTF-8', \n",
    "        'User-Agent': 'Mozilla/5.0 (Windows NT 10.0; Win64; x64; rv:109.0) Gecko/20100101 Firefox/119.0', \n",
    "        'Accept-Encoding': 'gzip, deflate, br'\n",
    "    }\n",
    "    \n",
    "    # Send the HTTP request\n",
    "    response = requests.get(URL, headers=request_header)  # Use requests.get() to make a GET request\n",
    "    \n",
    "    # Parse the response with BeautifulSoup\n",
    "    soup = BeautifulSoup(response.text, 'html.parser')  # Use BeautifulSoup to parse HTML\n",
    "    \n",
    "    # Find the IMDb rating on the page\n",
    "    imdb_rating = soup.find('span', attrs={'itemprop': 'ratingValue'})  # Find rating element\n",
    "    \n",
    "    # Return the rating if found, else return NaN\n",
    "    return imdb_rating.text if imdb_rating else np.nan\n"
   ]
  },
  {
   "cell_type": "code",
   "execution_count": 1,
   "id": "b6f8925b",
   "metadata": {},
   "outputs": [],
   "source": [
    "import pandas as pd\n",
    "import requests\n",
    "from bs4 import BeautifulSoup\n",
    "import numpy as np\n",
    "\n",
    "# Load datasets\n",
    "ratings_df = pd.read_csv('ratings.csv')\n",
    "links_df = pd.read_csv('links.csv')\n",
    "movies_df = pd.read_csv('movies.csv')\n",
    "\n",
    "\n"
   ]
  },
  {
   "cell_type": "code",
   "execution_count": 2,
   "id": "bd0ea6da",
   "metadata": {},
   "outputs": [],
   "source": [
    "# Calculate movie ratings counts\n",
    "movie_ratings_counts = ratings_df.groupby('movieId').size()\n",
    "popular_movies = movie_ratings_counts[movie_ratings_counts > 50].index\n",
    "\n"
   ]
  },
  {
   "cell_type": "code",
   "execution_count": 3,
   "id": "6455b1ad",
   "metadata": {},
   "outputs": [],
   "source": [
    "# Filter movies with more than 50 ratings\n",
    "filtered_movies_df = movies_df[movies_df['movieId'].isin(popular_movies)]\n",
    "\n"
   ]
  },
  {
   "cell_type": "code",
   "execution_count": 4,
   "id": "9e32233d",
   "metadata": {},
   "outputs": [],
   "source": [
    "# Merge with links to get IMDb IDs\n",
    "merged_df = pd.merge(filtered_movies_df, links_df, on='movieId')\n",
    "\n",
    "def scrapper(imdbId):\n",
    "    id = str(int(imdbId))\n",
    "    n_zeroes = 7 - len(id)\n",
    "    new_id = \"0\"*n_zeroes + id\n",
    "    URL = f\"https://www.imdb.com/title/tt{new_id}/\"\n",
    "    request_header = {\n",
    "        'Content-Type': 'text/html; charset=UTF-8', \n",
    "        'User-Agent': 'Mozilla/5.0 (Windows NT 10.0; Win64; x64; rv:109.0) Gecko/20100101 Firefox/119.0', \n",
    "        'Accept-Encoding': 'gzip, deflate, br'\n",
    "    }\n",
    "    response = requests.get(URL, headers=request_header)\n",
    "    soup = BeautifulSoup(response.text, 'html.parser')\n",
    "    imdb_rating = soup.find('span', attrs={'itemprop': 'ratingValue'})\n",
    "    return imdb_rating.text if imdb_rating else np.nan\n",
    "\n"
   ]
  },
  {
   "cell_type": "code",
   "execution_count": 5,
   "id": "7504ea6c",
   "metadata": {},
   "outputs": [],
   "source": [
    "import time\n",
    "\n",
    "def scrapper(imdbId):\n",
    "    time.sleep(1)  # Delay to avoid rate limiting\n",
    "    id = str(int(imdbId))\n",
    "    n_zeroes = 7 - len(id)\n",
    "    new_id = \"0\"*n_zeroes + id\n",
    "    URL = f\"https://www.imdb.com/title/tt{new_id}/\"\n",
    "    request_header = {\n",
    "        'Content-Type': 'text/html; charset=UTF-8', \n",
    "        'User-Agent': 'Mozilla/5.0 (Windows NT 10.0; Win64; x64; rv:109.0) Gecko/20100101 Firefox/119.0', \n",
    "        'Accept-Encoding': 'gzip, deflate, br'\n",
    "    }\n",
    "    response = requests.get(URL, headers=request_header)\n",
    "    soup = BeautifulSoup(response.text, 'html.parser')\n",
    "    imdb_rating = soup.find('span', attrs={'itemprop': 'ratingValue'})\n",
    "    return imdb_rating.text if imdb_rating else np.nan\n"
   ]
  },
  {
   "cell_type": "code",
   "execution_count": 6,
   "id": "0758477e",
   "metadata": {},
   "outputs": [
    {
     "name": "stdout",
     "output_type": "stream",
     "text": [
      "[nan, nan, nan, nan, nan]\n"
     ]
    }
   ],
   "source": [
    "# Test with a small sample\n",
    "test_imdb_ids = merged_df['imdbId'].head(5)\n",
    "print([scrapper(imdb_id) for imdb_id in test_imdb_ids])\n"
   ]
  },
  {
   "cell_type": "code",
   "execution_count": 7,
   "id": "0408db0e",
   "metadata": {},
   "outputs": [],
   "source": [
    "def scrapper(imdbId):\n",
    "    try:\n",
    "        time.sleep(1)  # Delay to avoid rate limiting\n",
    "        id = str(int(imdbId))\n",
    "        n_zeroes = 7 - len(id)\n",
    "        new_id = \"0\"*n_zeroes + id\n",
    "        URL = f\"https://www.imdb.com/title/tt{new_id}/\"\n",
    "        request_header = {\n",
    "            'Content-Type': 'text/html; charset=UTF-8', \n",
    "            'User-Agent': 'Mozilla/5.0 (Windows NT 10.0; Win64; x64; rv:109.0) Gecko/20100101 Firefox/119.0', \n",
    "            'Accept-Encoding': 'gzip, deflate, br'\n",
    "        }\n",
    "        response = requests.get(URL, headers=request_header)\n",
    "        soup = BeautifulSoup(response.text, 'html.parser')\n",
    "        imdb_rating = soup.find('span', attrs={'itemprop': 'ratingValue'})\n",
    "        return imdb_rating.text if imdb_rating else np.nan\n",
    "    except Exception as e:\n",
    "        print(f\"Error fetching IMDb rating for ID {imdbId}: {e}\")\n",
    "        return np.nan\n"
   ]
  },
  {
   "cell_type": "code",
   "execution_count": 8,
   "id": "425deec3",
   "metadata": {},
   "outputs": [],
   "source": [
    "from concurrent.futures import ThreadPoolExecutor\n",
    "\n",
    "def fetch_ratings(imdb_ids):\n",
    "    with ThreadPoolExecutor(max_workers=10) as executor:\n",
    "        ratings = list(executor.map(scrapper, imdb_ids))\n",
    "    return ratings\n",
    "\n",
    "merged_df['imdb_rating'] = fetch_ratings(merged_df['imdbId'])\n"
   ]
  },
  {
   "cell_type": "code",
   "execution_count": 9,
   "id": "bc5b3b60",
   "metadata": {},
   "outputs": [],
   "source": [
    "merged_df = pd.merge(movies_df, links_df, on='movieId')\n"
   ]
  },
  {
   "cell_type": "code",
   "execution_count": 10,
   "id": "b12da573",
   "metadata": {},
   "outputs": [],
   "source": [
    "import requests\n",
    "from bs4 import BeautifulSoup\n",
    "import numpy as np\n",
    "import time\n",
    "\n",
    "def scrapper(imdbId):\n",
    "    try:\n",
    "        time.sleep(1)  # Delay to avoid rate limiting\n",
    "        id = str(int(imdbId))\n",
    "        n_zeroes = 7 - len(id)\n",
    "        new_id = \"0\"*n_zeroes + id\n",
    "        URL = f\"https://www.imdb.com/title/tt{new_id}/\"\n",
    "        request_header = {\n",
    "            'Content-Type': 'text/html; charset=UTF-8', \n",
    "            'User-Agent': 'Mozilla/5.0 (Windows NT 10.0; Win64; x64; rv:109.0) Gecko/20100101 Firefox/119.0', \n",
    "            'Accept-Encoding': 'gzip, deflate, br'\n",
    "        }\n",
    "        response = requests.get(URL, headers=request_header)\n",
    "        soup = BeautifulSoup(response.text, 'html.parser')\n",
    "        imdb_rating = soup.find('span', attrs={'itemprop': 'ratingValue'})\n",
    "        return float(imdb_rating.text) if imdb_rating else np.nan\n",
    "    except Exception as e:\n",
    "        print(f\"Error fetching IMDb rating for ID {imdbId}: {e}\")\n",
    "        return np.nan\n"
   ]
  },
  {
   "cell_type": "code",
   "execution_count": null,
   "id": "7fac25b9",
   "metadata": {},
   "outputs": [],
   "source": [
    "def process_in_batches(df, batch_size=50):\n",
    "    results = []\n",
    "    for start in range(0, len(df), batch_size):\n",
    "        batch = df.iloc[start:start + batch_size]\n",
    "        batch_results = batch['imdbId'].apply(scrapper)\n",
    "        results.extend(batch_results)\n",
    "    return results\n",
    "\n",
    "# Apply to dataframe\n",
    "merged_df['imdb_rating'] = process_in_batches(merged_df)\n"
   ]
  },
  {
   "cell_type": "code",
   "execution_count": null,
   "id": "58934778",
   "metadata": {},
   "outputs": [],
   "source": [
    "from multiprocessing import Pool\n",
    "\n",
    "def parallel_scrapper(imdb_ids):\n",
    "    with Pool() as pool:\n",
    "        return pool.map(scrapper, imdb_ids)\n",
    "\n",
    "# Apply parallel scraping\n",
    "merged_df['imdb_rating'] = parallel_scrapper(merged_df['imdbId'])\n"
   ]
  },
  {
   "cell_type": "code",
   "execution_count": null,
   "id": "77da0599",
   "metadata": {},
   "outputs": [],
   "source": [
    "from functools import lru_cache\n",
    "\n",
    "@lru_cache(maxsize=1000)  # Adjust the cache size as needed\n",
    "def cached_scrapper(imdbId):\n",
    "    return scrapper(imdbId)\n",
    "\n",
    "merged_df['imdb_rating'] = merged_df['imdbId'].apply(cached_scrapper)\n"
   ]
  }
 ],
 "metadata": {
  "kernelspec": {
   "display_name": "Python 3 (ipykernel)",
   "language": "python",
   "name": "python3"
  },
  "language_info": {
   "codemirror_mode": {
    "name": "ipython",
    "version": 3
   },
   "file_extension": ".py",
   "mimetype": "text/x-python",
   "name": "python",
   "nbconvert_exporter": "python",
   "pygments_lexer": "ipython3",
   "version": "3.9.13"
  }
 },
 "nbformat": 4,
 "nbformat_minor": 5
}
